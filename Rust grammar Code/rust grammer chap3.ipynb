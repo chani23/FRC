{
 "cells": [
  {
   "cell_type": "markdown",
   "id": "3b37ef1c-aaac-48c7-98c7-13fc3089452e",
   "metadata": {},
   "source": [
    "# 3.1 변수와 가변성"
   ]
  },
  {
   "cell_type": "code",
   "execution_count": 3,
   "id": "5af0a9c8-3220-4125-a1fa-a35f85cdbf31",
   "metadata": {},
   "outputs": [
    {
     "name": "stdout",
     "output_type": "stream",
     "text": [
      "The value of x is: 5\n",
      "The value of x is: 6\n"
     ]
    }
   ],
   "source": [
    "let mut x = 5;\n",
    "    println!(\"The value of x is: {}\", x);\n",
    "    x = 6;\n",
    "    println!(\"The value of x is: {}\", x);"
   ]
  },
  {
   "cell_type": "code",
   "execution_count": 5,
   "id": "63d99e16-d6de-4b02-a7df-e5280db9455d",
   "metadata": {
    "tags": []
   },
   "outputs": [
    {
     "name": "stdout",
     "output_type": "stream",
     "text": [
      "The value of x is: 12\n"
     ]
    }
   ],
   "source": [
    "let x = 5;\n",
    "\n",
    "let x = x + 1 ;\n",
    "\n",
    "let x = x * 2 ;\n",
    "println!(\"The value of x is: {}\", x);"
   ]
  },
  {
   "cell_type": "markdown",
   "id": "579cedce-55af-46c0-802f-abaf2e7508ed",
   "metadata": {},
   "source": [
    "# 3.2 데이터 타입"
   ]
  },
  {
   "cell_type": "code",
   "execution_count": 8,
   "id": "27a160bb-29f6-4196-8ee3-d625aaac6c4b",
   "metadata": {
    "tags": []
   },
   "outputs": [
    {
     "name": "stdout",
     "output_type": "stream",
     "text": [
      "나올 숫자는: 2 \n",
      "나올 숫자는: 3 \n"
     ]
    }
   ],
   "source": [
    "let x= 2.0;\n",
    "\n",
    "let y: f32 = 3.0;\n",
    "println!(\"나올 숫자는: {} \",x );\n",
    "println!(\"나올 숫자는: {} \",y );"
   ]
  },
  {
   "cell_type": "code",
   "execution_count": 11,
   "id": "4e1fc349-bd38-49ab-958d-6ecac3095eeb",
   "metadata": {
    "tags": []
   },
   "outputs": [
    {
     "name": "stdout",
     "output_type": "stream",
     "text": [
      "16.4\n",
      "91.2\n",
      "120\n",
      "1.7608695652173911\n",
      "3\n"
     ]
    }
   ],
   "source": [
    "let sum = 5.7 + 10.7;\n",
    "\n",
    "let difference = 95.5 - 4.3;\n",
    "\n",
    "let product = 4 * 30;\n",
    "\n",
    "let quotient = 56.7 / 32.2;\n",
    "\n",
    "let remainder = 43 % 5;\n",
    "\n",
    "println!(\"{}\",sum);\n",
    "println!(\"{}\",difference);\n",
    "println!(\"{}\",product);\n",
    "println!(\"{}\",quotient);\n",
    "println!(\"{}\",remainder);"
   ]
  },
  {
   "cell_type": "code",
   "execution_count": 12,
   "id": "2e5c4609-450e-46f1-bfde-455f2adfb067",
   "metadata": {
    "tags": []
   },
   "outputs": [
    {
     "name": "stdout",
     "output_type": "stream",
     "text": [
      "true\n",
      "false\n"
     ]
    }
   ],
   "source": [
    "let t = true ;\n",
    "\n",
    "let f : bool = false;\n",
    "\n",
    "println!(\"{}\", t);\n",
    "println!(\"{}\",f );"
   ]
  },
  {
   "cell_type": "code",
   "execution_count": 2,
   "id": "3457036f-1877-47e9-a2aa-4642d2753d3a",
   "metadata": {
    "tags": []
   },
   "outputs": [
    {
     "name": "stdout",
     "output_type": "stream",
     "text": [
      "z\n",
      "ℤ\n",
      "😻\n"
     ]
    }
   ],
   "source": [
    "let c = 'z';\n",
    "let z = 'ℤ';\n",
    "let heart_eyed_cat = '😻';\n",
    "println!(\"{}\", c);\n",
    "println!(\"{}\", z);\n",
    "println!(\"{}\", heart_eyed_cat);"
   ]
  },
  {
   "cell_type": "code",
   "execution_count": 14,
   "id": "eb51fb81-188c-4ead-a4a4-0fea2da5d0a6",
   "metadata": {
    "tags": []
   },
   "outputs": [
    {
     "name": "stdout",
     "output_type": "stream",
     "text": [
      "the value of x is: 500\n",
      "the value of y is: 6.4\n",
      "the value of z is: 1\n"
     ]
    }
   ],
   "source": [
    "let tup = (500, 6.4, 1);\n",
    "let (x, y, z) = tup;\n",
    "println!(\"the value of x is: {}\", x);\n",
    "println!(\"the value of y is: {}\", y);\n",
    "println!(\"the value of z is: {}\", z);"
   ]
  },
  {
   "cell_type": "code",
   "execution_count": 15,
   "id": "7e6e4ec2-9a85-4efc-9a8a-9864e779e5d9",
   "metadata": {
    "tags": []
   },
   "outputs": [
    {
     "name": "stdout",
     "output_type": "stream",
     "text": [
      "first index of x is 500\n",
      "second index of x is 6.4\n",
      "third index of x is 1\n"
     ]
    }
   ],
   "source": [
    "let x: (i32, f64, u8) = (500, 6.4, 1);\n",
    "\n",
    "let five_hundred = x.0;\n",
    "\n",
    "let six_point_four = x.1;\n",
    "\n",
    "let one = x.2;\n",
    "\n",
    "println!(\"first index of x is {}\",five_hundred);\n",
    "println!(\"second index of x is {}\",six_point_four);\n",
    "println!(\"third index of x is {}\",one);"
   ]
  },
  {
   "cell_type": "code",
   "execution_count": 16,
   "id": "c4a34d15-4b50-4d69-929c-3c60af88314b",
   "metadata": {
    "tags": []
   },
   "outputs": [
    {
     "name": "stdout",
     "output_type": "stream",
     "text": [
      "first of a is 1\n",
      "second of a is 2\n"
     ]
    }
   ],
   "source": [
    "let a = [1, 2, 3, 4, 5];\n",
    "\n",
    "let first = a[0];\n",
    "let second = a[1];\n",
    "\n",
    "println!(\"first of a is {}\",first);\n",
    "println!(\"second of a is {}\", second);"
   ]
  },
  {
   "cell_type": "code",
   "execution_count": 17,
   "id": "f716394d-e1d5-49d9-80f0-adcf17f74b22",
   "metadata": {
    "tags": []
   },
   "outputs": [
    {
     "ename": "Error",
     "evalue": "this operation will panic at runtime",
     "output_type": "error",
     "traceback": [
      "\u001b[31m[unconditional_panic] Error:\u001b[0m this operation will panic at runtime",
      "   \u001b[38;5;246m╭\u001b[0m\u001b[38;5;246m─\u001b[0m\u001b[38;5;246m[\u001b[0mcommand_17:1:1\u001b[38;5;246m]\u001b[0m",
      "   \u001b[38;5;246m│\u001b[0m",
      " \u001b[38;5;246m4 │\u001b[0m \u001b[38;5;249ml\u001b[0m\u001b[38;5;249me\u001b[0m\u001b[38;5;249mt\u001b[0m\u001b[38;5;249m \u001b[0m\u001b[38;5;249me\u001b[0m\u001b[38;5;249ml\u001b[0m\u001b[38;5;249me\u001b[0m\u001b[38;5;249mm\u001b[0m\u001b[38;5;249me\u001b[0m\u001b[38;5;249mn\u001b[0m\u001b[38;5;249mt\u001b[0m\u001b[38;5;249m \u001b[0m\u001b[38;5;249m=\u001b[0m\u001b[38;5;249m \u001b[0m\u001b[38;5;54ma\u001b[0m\u001b[38;5;54m[\u001b[0m\u001b[38;5;54mi\u001b[0m\u001b[38;5;54mn\u001b[0m\u001b[38;5;54md\u001b[0m\u001b[38;5;54me\u001b[0m\u001b[38;5;54mx\u001b[0m\u001b[38;5;54m]\u001b[0m\u001b[38;5;249m;\u001b[0m",
      " \u001b[38;5;240m  │\u001b[0m               \u001b[38;5;54m─\u001b[0m\u001b[38;5;54m─\u001b[0m\u001b[38;5;54m─\u001b[0m\u001b[38;5;54m─\u001b[0m\u001b[38;5;54m┬\u001b[0m\u001b[38;5;54m─\u001b[0m\u001b[38;5;54m─\u001b[0m\u001b[38;5;54m─\u001b[0m  ",
      " \u001b[38;5;240m  │\u001b[0m                   \u001b[38;5;54m╰\u001b[0m\u001b[38;5;54m─\u001b[0m\u001b[38;5;54m─\u001b[0m\u001b[38;5;54m─\u001b[0m\u001b[38;5;54m─\u001b[0m\u001b[38;5;54m─\u001b[0m index out of bounds: the length is 5 but the index is 10",
      "\u001b[38;5;246m───╯\u001b[0m"
     ]
    }
   ],
   "source": [
    "let a = [1, 2, 3, 4, 5];\n",
    "let index = 10;\n",
    "\n",
    "let element = a[index];\n",
    "\n",
    "println!(\"The value of element is: {}\", element);"
   ]
  },
  {
   "cell_type": "markdown",
   "id": "d3200859-1b51-4889-97dd-5ceb7f2ad8a5",
   "metadata": {},
   "source": [
    "##### 인덱스 범위를 넘어가면 오류가 남"
   ]
  },
  {
   "cell_type": "markdown",
   "id": "d3f0a2bd-7bc7-476e-9dea-0c3e001abccf",
   "metadata": {
    "tags": []
   },
   "source": [
    "# 3.3 함수 동작 원리"
   ]
  },
  {
   "cell_type": "code",
   "execution_count": 2,
   "id": "059c2a2f-938c-4809-a352-753708d5f3bb",
   "metadata": {},
   "outputs": [
    {
     "name": "stdout",
     "output_type": "stream",
     "text": [
      "Another function\n",
      "hello, world!\n"
     ]
    }
   ],
   "source": [
    "fn another_function(){\n",
    "    println!(\"hello, world!\");\n",
    "}\n",
    "\n",
    "println!(\"Another function\");\n",
    "another_function();"
   ]
  },
  {
   "cell_type": "code",
   "execution_count": 22,
   "id": "8b9e3a23-ae89-4c79-91b3-2543a2ba310b",
   "metadata": {
    "tags": []
   },
   "outputs": [],
   "source": [
    "fn another_function(x : i32){\n",
    "    println!(\"The value of x is: {}\",x);\n",
    "}"
   ]
  },
  {
   "cell_type": "code",
   "execution_count": 24,
   "id": "088f1ef6-533d-47ae-9154-f05d4f5ea697",
   "metadata": {
    "tags": []
   },
   "outputs": [
    {
     "name": "stdout",
     "output_type": "stream",
     "text": [
      "The value of x is: 655\n"
     ]
    }
   ],
   "source": [
    "another_function(655);"
   ]
  },
  {
   "cell_type": "markdown",
   "id": "45370118-291f-480a-a219-22a38ec73fbf",
   "metadata": {},
   "source": [
    "##### i숫자의 형태는 정수 꼴이고 f숫자는 실수꼴을 받는다."
   ]
  },
  {
   "cell_type": "code",
   "execution_count": 28,
   "id": "d39e7e12-1159-47c7-a261-ac2fbde253e0",
   "metadata": {
    "tags": []
   },
   "outputs": [],
   "source": [
    "fn another_function(x : i32, y: f64){\n",
    "    println!(\"The value of x is: {}\",x);\n",
    "    println!(\"The value of y is: {}\",y);\n",
    "}"
   ]
  },
  {
   "cell_type": "code",
   "execution_count": 29,
   "id": "ccaba709-4782-4732-bf04-a9ffda86b2d1",
   "metadata": {
    "tags": []
   },
   "outputs": [
    {
     "name": "stdout",
     "output_type": "stream",
     "text": [
      "The value of x is: 15\n",
      "The value of y is: 16.3\n"
     ]
    }
   ],
   "source": [
    "another_function(15,16.3);"
   ]
  },
  {
   "cell_type": "code",
   "execution_count": 30,
   "id": "69036fe4-b82b-4961-8689-7e71062d7213",
   "metadata": {
    "tags": []
   },
   "outputs": [],
   "source": [
    "let y = 6;"
   ]
  },
  {
   "cell_type": "code",
   "execution_count": 31,
   "id": "7f2d3c34-cb52-4da2-99d4-ec1665851a3e",
   "metadata": {
    "tags": []
   },
   "outputs": [
    {
     "ename": "Error",
     "evalue": "expected expression, found `let` statement",
     "output_type": "error",
     "traceback": [
      "\u001b[31mError:\u001b[0m expected expression, found `let` statement",
      "   \u001b[38;5;246m╭\u001b[0m\u001b[38;5;246m─\u001b[0m\u001b[38;5;246m[\u001b[0mcommand_31:1:1\u001b[38;5;246m]\u001b[0m",
      "   \u001b[38;5;246m│\u001b[0m",
      " \u001b[38;5;246m1 │\u001b[0m \u001b[38;5;249ml\u001b[0m\u001b[38;5;249me\u001b[0m\u001b[38;5;249mt\u001b[0m\u001b[38;5;249m \u001b[0m\u001b[38;5;249mx\u001b[0m\u001b[38;5;249m \u001b[0m\u001b[38;5;249m=\u001b[0m\u001b[38;5;249m \u001b[0m\u001b[38;5;249m(\u001b[0m\u001b[38;5;54ml\u001b[0m\u001b[38;5;54me\u001b[0m\u001b[38;5;54mt\u001b[0m\u001b[38;5;249m \u001b[0m\u001b[38;5;249my\u001b[0m\u001b[38;5;249m \u001b[0m\u001b[38;5;249m=\u001b[0m\u001b[38;5;249m \u001b[0m\u001b[38;5;249m6\u001b[0m\u001b[38;5;249m)\u001b[0m\u001b[38;5;249m \u001b[0m\u001b[38;5;249m;\u001b[0m",
      " \u001b[38;5;240m  │\u001b[0m          \u001b[38;5;54m─\u001b[0m\u001b[38;5;54m┬\u001b[0m\u001b[38;5;54m─\u001b[0m  ",
      " \u001b[38;5;240m  │\u001b[0m           \u001b[38;5;54m╰\u001b[0m\u001b[38;5;54m─\u001b[0m\u001b[38;5;54m─\u001b[0m\u001b[38;5;54m─\u001b[0m error: expected expression, found `let` statement",
      "\u001b[38;5;246m───╯\u001b[0m"
     ]
    },
    {
     "ename": "Error",
     "evalue": "expected expression, found statement (`let`)",
     "output_type": "error",
     "traceback": [
      "\u001b[31mError:\u001b[0m expected expression, found statement (`let`)",
      "   \u001b[38;5;246m╭\u001b[0m\u001b[38;5;246m─\u001b[0m\u001b[38;5;246m[\u001b[0mcommand_31:1:1\u001b[38;5;246m]\u001b[0m",
      "   \u001b[38;5;246m│\u001b[0m",
      " \u001b[38;5;246m1 │\u001b[0m \u001b[38;5;249ml\u001b[0m\u001b[38;5;249me\u001b[0m\u001b[38;5;249mt\u001b[0m\u001b[38;5;249m \u001b[0m\u001b[38;5;249mx\u001b[0m\u001b[38;5;249m \u001b[0m\u001b[38;5;249m=\u001b[0m\u001b[38;5;249m \u001b[0m\u001b[38;5;249m(\u001b[0m\u001b[38;5;54ml\u001b[0m\u001b[38;5;54me\u001b[0m\u001b[38;5;54mt\u001b[0m\u001b[38;5;54m \u001b[0m\u001b[38;5;54my\u001b[0m\u001b[38;5;54m \u001b[0m\u001b[38;5;54m=\u001b[0m\u001b[38;5;54m \u001b[0m\u001b[38;5;54m6\u001b[0m\u001b[38;5;249m)\u001b[0m\u001b[38;5;249m \u001b[0m\u001b[38;5;249m;\u001b[0m",
      " \u001b[38;5;240m  │\u001b[0m          \u001b[38;5;54m─\u001b[0m\u001b[38;5;54m─\u001b[0m\u001b[38;5;54m─\u001b[0m\u001b[38;5;54m─\u001b[0m\u001b[38;5;54m┬\u001b[0m\u001b[38;5;54m─\u001b[0m\u001b[38;5;54m─\u001b[0m\u001b[38;5;54m─\u001b[0m\u001b[38;5;54m─\u001b[0m  ",
      " \u001b[38;5;240m  │\u001b[0m              \u001b[38;5;54m╰\u001b[0m\u001b[38;5;54m─\u001b[0m\u001b[38;5;54m─\u001b[0m\u001b[38;5;54m─\u001b[0m\u001b[38;5;54m─\u001b[0m\u001b[38;5;54m─\u001b[0m\u001b[38;5;54m─\u001b[0m error: expected expression, found statement (`let`)",
      "\u001b[38;5;246m───╯\u001b[0m"
     ]
    },
    {
     "ename": "Error",
     "evalue": "`let` expressions in this position are unstable",
     "output_type": "error",
     "traceback": [
      "\u001b[31m[E0658] Error:\u001b[0m `let` expressions in this position are unstable",
      "   \u001b[38;5;246m╭\u001b[0m\u001b[38;5;246m─\u001b[0m\u001b[38;5;246m[\u001b[0mcommand_31:1:1\u001b[38;5;246m]\u001b[0m",
      "   \u001b[38;5;246m│\u001b[0m",
      " \u001b[38;5;246m1 │\u001b[0m \u001b[38;5;249ml\u001b[0m\u001b[38;5;249me\u001b[0m\u001b[38;5;249mt\u001b[0m\u001b[38;5;249m \u001b[0m\u001b[38;5;249mx\u001b[0m\u001b[38;5;249m \u001b[0m\u001b[38;5;249m=\u001b[0m\u001b[38;5;249m \u001b[0m\u001b[38;5;249m(\u001b[0m\u001b[38;5;54ml\u001b[0m\u001b[38;5;54me\u001b[0m\u001b[38;5;54mt\u001b[0m\u001b[38;5;54m \u001b[0m\u001b[38;5;54my\u001b[0m\u001b[38;5;54m \u001b[0m\u001b[38;5;54m=\u001b[0m\u001b[38;5;54m \u001b[0m\u001b[38;5;54m6\u001b[0m\u001b[38;5;249m)\u001b[0m\u001b[38;5;249m \u001b[0m\u001b[38;5;249m;\u001b[0m",
      " \u001b[38;5;240m  │\u001b[0m          \u001b[38;5;54m─\u001b[0m\u001b[38;5;54m─\u001b[0m\u001b[38;5;54m─\u001b[0m\u001b[38;5;54m─\u001b[0m\u001b[38;5;54m┬\u001b[0m\u001b[38;5;54m─\u001b[0m\u001b[38;5;54m─\u001b[0m\u001b[38;5;54m─\u001b[0m\u001b[38;5;54m─\u001b[0m  ",
      " \u001b[38;5;240m  │\u001b[0m              \u001b[38;5;54m╰\u001b[0m\u001b[38;5;54m─\u001b[0m\u001b[38;5;54m─\u001b[0m\u001b[38;5;54m─\u001b[0m\u001b[38;5;54m─\u001b[0m\u001b[38;5;54m─\u001b[0m\u001b[38;5;54m─\u001b[0m error: `let` expressions in this position are unstable",
      "\u001b[38;5;246m───╯\u001b[0m"
     ]
    },
    {
     "ename": "Error",
     "evalue": "unnecessary parentheses around assigned value",
     "output_type": "error",
     "traceback": [
      "\u001b[31m[unused_parens] Error:\u001b[0m unnecessary parentheses around assigned value"
     ]
    }
   ],
   "source": [
    "let x = (let y = 6) ;"
   ]
  },
  {
   "cell_type": "code",
   "execution_count": 33,
   "id": "19444c0d-dfb4-4e77-8372-6752f778de6e",
   "metadata": {
    "tags": []
   },
   "outputs": [
    {
     "name": "stdout",
     "output_type": "stream",
     "text": [
      "The value of y is: 4\n"
     ]
    }
   ],
   "source": [
    "let x = 5;\n",
    "\n",
    "let y = {\n",
    "    let x = 3;\n",
    "    x + 1\n",
    "};\n",
    "\n",
    "println!(\"The value of y is: {}\" , y) ;\n"
   ]
  },
  {
   "cell_type": "code",
   "execution_count": 36,
   "id": "ac15a8ff-11b0-4f97-809f-78f5f7033d38",
   "metadata": {
    "tags": []
   },
   "outputs": [
    {
     "name": "stdout",
     "output_type": "stream",
     "text": [
      "The value of x is: 5\n"
     ]
    }
   ],
   "source": [
    "fn five() -> i32 {\n",
    "    5\n",
    "}\n",
    "\n",
    "fn main() {\n",
    "    let x = five();\n",
    "\n",
    "    println!(\"The value of x is: {}\", x);\n",
    "}\n",
    "main();"
   ]
  },
  {
   "cell_type": "code",
   "execution_count": 37,
   "id": "cec955e0-84fb-4479-b2d6-0a948d860081",
   "metadata": {
    "tags": []
   },
   "outputs": [
    {
     "name": "stdout",
     "output_type": "stream",
     "text": [
      "The value of x is: 6\n"
     ]
    }
   ],
   "source": [
    "fn plus_one(x: i32) -> i32 {\n",
    "    x + 1\n",
    "}\n",
    "\n",
    "fn main() {\n",
    "    let x = plus_one(5);\n",
    "\n",
    "    println!(\"The value of x is: {}\", x);\n",
    "}\n",
    "\n",
    "main();"
   ]
  },
  {
   "cell_type": "markdown",
   "id": "d0f77787-c5c6-4953-bcec-59bffa04c318",
   "metadata": {},
   "source": [
    "# 3.4 주석"
   ]
  },
  {
   "cell_type": "code",
   "execution_count": null,
   "id": "34ff768f-49c1-4879-bf44-738d95fbf591",
   "metadata": {},
   "outputs": [],
   "source": []
  }
 ],
 "metadata": {
  "kernelspec": {
   "display_name": "Rust",
   "language": "rust",
   "name": "rust"
  },
  "language_info": {
   "codemirror_mode": "rust",
   "file_extension": ".rs",
   "mimetype": "text/rust",
   "name": "Rust",
   "pygment_lexer": "rust",
   "version": ""
  }
 },
 "nbformat": 4,
 "nbformat_minor": 5
}
